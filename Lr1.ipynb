{
 "cells": [
  {
   "cell_type": "code",
   "execution_count": null,
   "id": "9fc95e8e-b9e1-445b-aa10-a9c2e57e0529",
   "metadata": {},
   "outputs": [],
   "source": [
    "# Лабораторная работа №1\n",
    "16.\n",
    "Из списка удалить элементы, кратные трем, стоящие между\n",
    "максимальным и минимальным элементами.\n",
    "Пример: из списка A[7]: 1 9 3 4 9 0 0 должен получиться список A[5]: 1 9 4 0 0"
   ]
  },
  {
   "cell_type": "code",
   "execution_count": 1,
   "id": "07b657ec-a901-4ec5-801b-be3d1486789c",
   "metadata": {},
   "outputs": [
    {
     "name": "stdout",
     "output_type": "stream",
     "text": [
      "[1, 10, 3, 4, 10, 0, 0]\n",
      "min: lst[5] = 0\n",
      "max: lst[1] = 10\n",
      "[10, 4, 10, 0] \n",
      "\n",
      "[90, 92, 34, 84, 35, 67, 16, 89, 46, 75]\n",
      "min: lst[6] = 16\n",
      "max: lst[1] = 92\n",
      "[92, 34, 35, 67, 16]\n"
     ]
    }
   ],
   "source": [
    "import random as rand\n",
    "# определяем минимум\n",
    "def min_custom(lst):\n",
    "    minitem = 9999\n",
    "    for i in lst:\n",
    "        if minitem > i:\n",
    "            minitem = i\n",
    "    return minitem\n",
    "\n",
    "# определчем максимум\n",
    "def max_custom(lst):\n",
    "    maxitem = 0\n",
    "    for i in lst:\n",
    "        if maxitem < i:\n",
    "            maxitem = i\n",
    "    return maxitem\n",
    "\n",
    "def foo(lst):\n",
    "    #Определяем индексы минимума и максимума\n",
    "    min_index = lst.index(min_custom(lst))\n",
    "    max_index = lst.index(max_custom(lst))\n",
    "    \n",
    "    print('min: lst[{}] = {}'.format(min_index, lst[min_index]))\n",
    "    print('max: lst[{}] = {}'.format(max_index, lst[max_index]))\n",
    "    \n",
    "    # Определяем начальный и конечный индексы\n",
    "    start = min(min_index, max_index)\n",
    "    end = max(min_index, max_index)\n",
    "    \n",
    "    return [x for x in lst[start:end+1] if x % 3 != 0 or x == 0]\n",
    "\n",
    "#Задаём список (вручную или нет)\n",
    "A = [1, 10, 3, 4, 10, 0, 0]\n",
    "B = list(rand.randint(10,99) for i in range(10))\n",
    "print(A)\n",
    "print(foo(A),'\\n')\n",
    "print(B)\n",
    "print(foo(B))"
   ]
  },
  {
   "cell_type": "code",
   "execution_count": null,
   "id": "6bb7947a-4ccb-405a-ad77-9826ff0555d3",
   "metadata": {},
   "outputs": [],
   "source": []
  }
 ],
 "metadata": {
  "kernelspec": {
   "display_name": "Python 3 (ipykernel)",
   "language": "python",
   "name": "python3"
  },
  "language_info": {
   "codemirror_mode": {
    "name": "ipython",
    "version": 3
   },
   "file_extension": ".py",
   "mimetype": "text/x-python",
   "name": "python",
   "nbconvert_exporter": "python",
   "pygments_lexer": "ipython3",
   "version": "3.12.3"
  }
 },
 "nbformat": 4,
 "nbformat_minor": 5
}
