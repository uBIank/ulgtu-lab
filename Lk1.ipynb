{
 "cells": [
  {
   "cell_type": "code",
   "execution_count": 3,
   "id": "cab4cd73-c1e7-4e7c-913a-f6419c6e03c3",
   "metadata": {},
   "outputs": [
    {
     "name": "stdout",
     "output_type": "stream",
     "text": [
      "5\n"
     ]
    }
   ],
   "source": [
    "a = 5\n",
    "print(a)"
   ]
  },
  {
   "cell_type": "code",
   "execution_count": 6,
   "id": "165da4ab-2ead-48fd-9027-a929081c34d4",
   "metadata": {},
   "outputs": [
    {
     "name": "stdout",
     "output_type": "stream",
     "text": [
      "140704315681272\n",
      "140704315681336\n",
      "2091368750592\n",
      "2091368750592\n"
     ]
    }
   ],
   "source": [
    "a = 3\n",
    "print(id(a))\n",
    "a = 5\n",
    "print(id(a))\n",
    "a = [2,3]\n",
    "print(id(a))\n",
    "a.append(4)\n",
    "print(id(a))\n"
   ]
  },
  {
   "cell_type": "code",
   "execution_count": 8,
   "id": "50964661-edbe-49e9-9f77-03d6160e8c84",
   "metadata": {},
   "outputs": [
    {
     "name": "stdout",
     "output_type": "stream",
     "text": [
      "ad ' astra \" \n",
      "per \taspera\n"
     ]
    }
   ],
   "source": [
    "s = \"ad \\' astra \\\" \\nper \\taspera\"\n",
    "print(s)"
   ]
  },
  {
   "cell_type": "code",
   "execution_count": 14,
   "id": "31d46dba-11d0-4a2f-b284-9c23d5cd0af4",
   "metadata": {},
   "outputs": [
    {
     "name": "stdout",
     "output_type": "stream",
     "text": [
      "First name = Ivan, Last name = Ivanov, score = 0.4444444456\n"
     ]
    }
   ],
   "source": [
    "str_f = \"Ivan\"\n",
    "str_l = \"Ivanov\"\n",
    "a = 0.44444444555555555555555555555\n",
    "stf = \"First name = {}, Last name = {}, score = {:0.10f}\".format(str_f, str_l, a)\n",
    "print(stf)"
   ]
  },
  {
   "cell_type": "code",
   "execution_count": 46,
   "id": "7ae3b24c-0544-4d68-a365-a0f9699d59d5",
   "metadata": {},
   "outputs": [
    {
     "name": "stdout",
     "output_type": "stream",
     "text": [
      "Vasya\n",
      "Vasya\n",
      "Key: firstName value: Vasya\n",
      "Key: lastName value: Ivanov\n",
      "firstName\n",
      "lastName\n",
      "Vasya\n",
      "Ivanov\n",
      "dict_values(['Vasya', 'Ivanov'])\n"
     ]
    }
   ],
   "source": [
    "d = {}\n",
    "d['firstName'] = 'Vasya'\n",
    "d['lastName'] = 'Ivanov'\n",
    "if 'firstName' in d:\n",
    "    print(d['firstName'])\n",
    "else:\n",
    "    print('No match')\n",
    "\n",
    "print(d.get('firstName', 'No match'))\n",
    "\n",
    "for key, value in d.items():\n",
    "    print(\"Key: {} value: {}\".format(key, value))\n",
    "\n",
    "for key in d.keys():\n",
    "    print(key)\n",
    "for i in d.values():\n",
    "    print(i)\n",
    "\n",
    "print(d.values())"
   ]
  },
  {
   "cell_type": "code",
   "execution_count": 60,
   "id": "13fb115b-bec4-4162-933a-1693b66c3f21",
   "metadata": {},
   "outputs": [
    {
     "name": "stdout",
     "output_type": "stream",
     "text": [
      "[0, 7, 14, 21, 28, 35, 42, 49, 56, 63]\n",
      "index 1 elem 7\n",
      "index 3 elem 21\n",
      "index 5 elem 35\n",
      "index 7 elem 49\n",
      "index 9 elem 63\n",
      "0\n",
      "1\n",
      "2\n",
      "3\n",
      "4\n"
     ]
    }
   ],
   "source": [
    "b = list(range(0,70,7))\n",
    "print(b)\n",
    "for index, i in enumerate(b):\n",
    "    if i % 2 != 0:\n",
    "        print('index {}'.format(index), 'elem {}'.format(i) ) \n",
    "    \n",
    "for i in range(5):\n",
    "    print(i)"
   ]
  },
  {
   "cell_type": "code",
   "execution_count": 62,
   "id": "1e4777dc-fcf2-40c2-8fc1-7df177dea239",
   "metadata": {},
   "outputs": [
    {
     "name": "stdout",
     "output_type": "stream",
     "text": [
      "2 4\n",
      "(2, 4, 8)\n",
      "5 6 8\n",
      "(2, 4, 8)\n"
     ]
    }
   ],
   "source": [
    "z = (2, 4, 8)\n",
    "a, b, c = z\n",
    "print(a, b)\n",
    "print(z)\n",
    "\n",
    "a, b = 5, 6\n",
    "print(a, b, c)\n",
    "print(z)"
   ]
  },
  {
   "cell_type": "code",
   "execution_count": 65,
   "id": "8af0a588-7c40-435a-b11a-205b5c1462e2",
   "metadata": {},
   "outputs": [
    {
     "name": "stdout",
     "output_type": "stream",
     "text": [
      "2\n"
     ]
    }
   ],
   "source": [
    "import random as rand\n",
    "\n",
    "print(rand.randint(0,10))"
   ]
  },
  {
   "cell_type": "code",
   "execution_count": 68,
   "id": "19a46f04-495c-464f-a459-be98bf6591d7",
   "metadata": {},
   "outputs": [
    {
     "name": "stdout",
     "output_type": "stream",
     "text": [
      "[92, 8, 11, 33, 69, 59, 32, 40, 0, 23]\n"
     ]
    }
   ],
   "source": [
    "import random as rand\n",
    "lst = []\n",
    "for i in range(10):\n",
    "    lst.append(rand.randint(0,100))\n",
    "print(lst)"
   ]
  },
  {
   "cell_type": "code",
   "execution_count": 206,
   "id": "2058ca99-ddd6-43b0-a21d-dd84c2fe0025",
   "metadata": {},
   "outputs": [
    {
     "name": "stdout",
     "output_type": "stream",
     "text": [
      "[256, 4, 4, 512, 128, 512, 4, 512, 1024, 16, 2, 1, 1, 256, 256]\n",
      "256\n",
      "256\n",
      "[256, 4, 128, 4, 1024, 2, 1, 256]\n",
      "[256, 4, 4, 512, 128, 512, 4, 512, 1024, 16, 2, 1, 1, 256, 256]\n",
      "[256, 256, 1, 1, 2, 16, 1024, 512, 4, 512, 128, 512, 4, 4, 256]\n",
      "[256, 256, 1, 1]\n"
     ]
    }
   ],
   "source": [
    "import random as rand\n",
    "l = [2 ** rand.randint(0,10) for a in range(0,15)]\n",
    "print(l)\n",
    "\n",
    "print(l[len(l)-1])\n",
    "print(l[-1])\n",
    "\n",
    "print(l[0:len(l):2])\n",
    "print(l[::])\n",
    "print(l[::-1])\n",
    "print(l[-1:-5:-1])"
   ]
  },
  {
   "cell_type": "code",
   "execution_count": 208,
   "id": "b46167cc-253a-4076-bf38-66aacd7fd012",
   "metadata": {},
   "outputs": [
    {
     "name": "stdout",
     "output_type": "stream",
     "text": [
      "[4, 6, 8, 8, 2, 4, 6, 0, 4, 8]\n",
      "[9, 9, 7, 3, 9, 9, 4, 4, 7, 6]\n"
     ]
    }
   ],
   "source": [
    "import random as rand\n",
    "\n",
    "lst = []\n",
    "for x in range(10):\n",
    "    a = rand.randint(0,10)\n",
    "    lst.append(a if a % 2 == 0 else a + 1)\n",
    "print(lst)\n",
    "\n",
    "lst1 = list(rand.randint(0,10) for i in range(10))\n",
    "print(lst1)"
   ]
  },
  {
   "cell_type": "code",
   "execution_count": 149,
   "id": "474c3e48-a2b1-49b4-bb2d-dcbc8f68d84a",
   "metadata": {},
   "outputs": [
    {
     "name": "stdout",
     "output_type": "stream",
     "text": [
      "[1, 2, 4, 8, 16, 32, 64, 128, 256, 512]\n",
      "[0, 1, 4, 9, 16, 25, 36, 49, 64, 81]\n"
     ]
    }
   ],
   "source": [
    "l = []\n",
    "for i in range(10):\n",
    "    l.append(2 ** i)\n",
    "print(l)\n",
    "\n",
    "f = lambda x: 2 ** x\n",
    "f1 = lambda x: [a ** 2 for a in range(x)]\n",
    "\n",
    "print(f1(10))"
   ]
  },
  {
   "cell_type": "code",
   "execution_count": 177,
   "id": "8dabd269-6da9-4da4-b1ef-7ee9704e0a3f",
   "metadata": {},
   "outputs": [
    {
     "name": "stdout",
     "output_type": "stream",
     "text": [
      "[4096, 32768, 262144, 2097152, 16777216, 134217728]\n",
      "[0, 8, 22, 22, 22, 34, 34, 36, 38, 46]\n"
     ]
    }
   ],
   "source": [
    "import random as rand\n",
    "lst = list(map(\n",
    "    lambda x: 2 ** x if x > 10 else None,\n",
    "    [i * 3 for i in range(10) if i * 3 > 10]))\n",
    "print(lst)\n",
    "\n",
    "lst1 = list(map(\n",
    "    lambda x: x if x % 2 == 0 else x - 1 ,\n",
    "    [rand.randint(0,50) for i in range(10)]\n",
    "))\n",
    "lst1.sort()\n",
    "print(lst1)"
   ]
  },
  {
   "cell_type": "code",
   "execution_count": 196,
   "id": "e70477ad-c94a-459f-bc4e-c80455604228",
   "metadata": {},
   "outputs": [
    {
     "name": "stdin",
     "output_type": "stream",
     "text": [
      " 1, 4, 5   ,6\n"
     ]
    },
    {
     "name": "stdout",
     "output_type": "stream",
     "text": [
      "<class 'str'> 1, 4, 5   ,6\n",
      "[1, 4, 5, 6]\n"
     ]
    }
   ],
   "source": [
    "l = input()\n",
    "print(type(l),l)\n",
    "\n",
    "lst = [int(i.strip()) for i in l.split(',')]\n",
    "print(str(lst))"
   ]
  },
  {
   "cell_type": "code",
   "execution_count": 203,
   "id": "64e77808-ceda-435b-b874-02836ca7514c",
   "metadata": {},
   "outputs": [
    {
     "name": "stdin",
     "output_type": "stream",
     "text": [
      " 1 2 3 d 3d -1\n"
     ]
    },
    {
     "name": "stdout",
     "output_type": "stream",
     "text": [
      "[1, 2, 3, None, None, -1]\n"
     ]
    }
   ],
   "source": [
    "def safe_cast(val, to_type, default=None):\n",
    "    try:\n",
    "        return to_type(val)\n",
    "    except (ValueError, TypeError):\n",
    "        return default\n",
    "\n",
    "l = [safe_cast(i, int) for i in input().split(' ')]\n",
    "print(l)"
   ]
  },
  {
   "cell_type": "code",
   "execution_count": 205,
   "id": "3ca87a0f-1526-4cdd-b969-045f480b49f9",
   "metadata": {},
   "outputs": [
    {
     "name": "stdout",
     "output_type": "stream",
     "text": [
      "<class 'Exception'>\n",
      "('spam', 'eggs')\n",
      "('spam', 'eggs')\n"
     ]
    }
   ],
   "source": [
    "try:\n",
    "    raise Exception('spam', 'eggs')\n",
    "except Exception as inst:\n",
    "    print(type(inst))\n",
    "    print(inst.args)\n",
    "    print(inst)"
   ]
  }
 ],
 "metadata": {
  "kernelspec": {
   "display_name": "Python 3 (ipykernel)",
   "language": "python",
   "name": "python3"
  },
  "language_info": {
   "codemirror_mode": {
    "name": "ipython",
    "version": 3
   },
   "file_extension": ".py",
   "mimetype": "text/x-python",
   "name": "python",
   "nbconvert_exporter": "python",
   "pygments_lexer": "ipython3",
   "version": "3.12.7"
  }
 },
 "nbformat": 4,
 "nbformat_minor": 5
}
