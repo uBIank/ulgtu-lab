{
 "cells": [
  {
   "cell_type": "markdown",
   "id": "460c2fe3-1b4c-4fcf-83cd-5b7e4e15f6e8",
   "metadata": {},
   "source": [
    "# Лекция №2 Списки "
   ]
  },
  {
   "cell_type": "code",
   "execution_count": 7,
   "id": "54d41dc3-54ae-43c2-804c-5c56edebbcde",
   "metadata": {},
   "outputs": [
    {
     "name": "stdin",
     "output_type": "stream",
     "text": [
      " 1,2,3,4\n"
     ]
    },
    {
     "name": "stdout",
     "output_type": "stream",
     "text": [
      "<class 'str'> 1,2,3,4\n",
      "[1, 2, 3, 4]\n"
     ]
    }
   ],
   "source": [
    "l = input()\n",
    "print(type(l),l)\n",
    "lst = [int(i.strip()) for i in l.split(',')]\n",
    "print(lst)"
   ]
  },
  {
   "cell_type": "code",
   "execution_count": 16,
   "id": "5e648566-2b18-4b80-8aa5-efc7a59d9ce0",
   "metadata": {},
   "outputs": [
    {
     "name": "stdin",
     "output_type": "stream",
     "text": [
      " -1 2 3 es -5 6\n"
     ]
    },
    {
     "name": "stdout",
     "output_type": "stream",
     "text": [
      "[-1, 2, 3, -5, -5, 6]\n"
     ]
    }
   ],
   "source": [
    "def safe_cast(val, to_type, default = None):\n",
    "    try:\n",
    "        return to_type(val)\n",
    "    except (ValueError, TypeError):\n",
    "        return default\n",
    "\n",
    "#l = list(map(\n",
    "#        lambda x: int(safe_cast(x, int, -5)),\n",
    "#        [i for i in input().split(' ')]\n",
    "#        ))\n",
    "#print(l)\n",
    "l = [int(safe_cast(i, int, -5)) for i in input().split(' ')]\n",
    "print(l)"
   ]
  },
  {
   "cell_type": "markdown",
   "id": "dde61c7a-9040-4e4f-bc85-5404e2cb78a5",
   "metadata": {},
   "source": [
    "# Numpy"
   ]
  },
  {
   "cell_type": "code",
   "execution_count": 34,
   "id": "2022d0fc-5db2-4f42-b2ff-75e95fb6a435",
   "metadata": {},
   "outputs": [
    {
     "name": "stdout",
     "output_type": "stream",
     "text": [
      "<class 'numpy.ndarray'> [1. 4. 5. 8.]\n"
     ]
    }
   ],
   "source": [
    "import numpy as np\n",
    "\n",
    "a = np.array([1, 4, 5, 8], float)\n",
    "print(type(a),a)"
   ]
  },
  {
   "cell_type": "code",
   "execution_count": 38,
   "id": "fea18bdd-5067-4d64-8b9f-b46f057ac485",
   "metadata": {},
   "outputs": [
    {
     "name": "stdout",
     "output_type": "stream",
     "text": [
      "[0 1 3 5]\n",
      "[0 0 0 0 0]\n",
      "[1 1 1 1 1]\n",
      "[0 2 4 6 8]\n",
      "[0 2 4 6 8]\n"
     ]
    }
   ],
   "source": [
    "\n",
    "a = np.array([0, 1, 3, 5])\n",
    "print(a)\n",
    "\n",
    "a = np.zeros(5,int)\n",
    "print(a)\n",
    "\n",
    "a += 1\n",
    "print(a)\n",
    "\n",
    "b = np.arange(0,10,2)\n",
    "print(b)\n",
    "\n",
    "#l = np.linspace(0,10,100)\n",
    "#print(l)\n",
    "\n",
    "print(a*b)"
   ]
  },
  {
   "cell_type": "code",
   "execution_count": 33,
   "id": "01cc44cf-79c0-43e4-b1a6-1dfa7828f096",
   "metadata": {},
   "outputs": [
    {
     "name": "stdout",
     "output_type": "stream",
     "text": [
      "1.0\n",
      "[11. 12. 13. 14. 15. 16. 17. 18. 19. 20.]\n",
      "[30. 29. 28. 27. 26. 25. 24. 23. 22. 21.]\n"
     ]
    }
   ],
   "source": [
    "#Двумерный массив\n",
    "a = np.array([\n",
    "    [1,2,3,4,5,6,7,8,9,10],\n",
    "    [11,12,13,14,15,16,17,18,19,20],\n",
    "    [21,22,23,24,25,26,27,28,29,30]], float)\n",
    "print(a[0,0])\n",
    "print(a[1,:])\n",
    "print(a[-1,-1::-1])"
   ]
  },
  {
   "cell_type": "code",
   "execution_count": 39,
   "id": "7c508518-b3e8-4875-805f-fcf90e22161f",
   "metadata": {},
   "outputs": [
    {
     "name": "stdout",
     "output_type": "stream",
     "text": [
      "(5,)\n",
      "int64\n"
     ]
    }
   ],
   "source": [
    "print(a.shape)\n",
    "print(a.dtype)"
   ]
  },
  {
   "cell_type": "code",
   "execution_count": 47,
   "id": "f10a3ad6-ddb7-41e8-8e77-8aee71651964",
   "metadata": {},
   "outputs": [
    {
     "name": "stdout",
     "output_type": "stream",
     "text": [
      "[0. 1. 2. 3. 4. 5. 6. 7. 8. 9.]\n",
      "[[0. 1.]\n",
      " [2. 3.]\n",
      " [4. 5.]\n",
      " [6. 7.]\n",
      " [8. 9.]]\n",
      "[[0. 1. 2. 3. 4.]\n",
      " [5. 6. 7. 8. 9.]]\n",
      "[0. 1. 2. 3. 4. 5. 6. 7. 8. 9.]\n"
     ]
    }
   ],
   "source": [
    "a = np.array(range(10),float)\n",
    "print(a)\n",
    "a = a.reshape((5,2))\n",
    "print(a)\n",
    "a = a.reshape((2,5))\n",
    "print(a)\n",
    "a = a.reshape((10))\n",
    "print(a)"
   ]
  },
  {
   "cell_type": "code",
   "execution_count": 49,
   "id": "b35b7b1a-4591-402b-aaab-6382d2508da7",
   "metadata": {},
   "outputs": [
    {
     "name": "stdout",
     "output_type": "stream",
     "text": [
      "b'\\x00\\x00\\x00\\x00\\x00\\x00\\x00\\x00\\x00\\x00\\x00\\x00\\x00\\x00\\xf0?\\x00\\x00\\x00\\x00\\x00\\x00\\x00@\\x00\\x00\\x00\\x00\\x00\\x00\\x08@\\x00\\x00\\x00\\x00\\x00\\x00\\x10@\\x00\\x00\\x00\\x00\\x00\\x00\\x14@\\x00\\x00\\x00\\x00\\x00\\x00\\x18@\\x00\\x00\\x00\\x00\\x00\\x00\\x1c@\\x00\\x00\\x00\\x00\\x00\\x00 @\\x00\\x00\\x00\\x00\\x00\\x00\"@'\n",
      "[0. 1. 2. 3. 4. 5. 6. 7. 8. 9.]\n"
     ]
    }
   ],
   "source": [
    "s = a.tobytes()\n",
    "print(s)\n",
    "a = np.frombuffer(s)\n",
    "print(a)"
   ]
  },
  {
   "cell_type": "code",
   "execution_count": 53,
   "id": "8153bbc4-c12d-480b-bdae-fde605f886c9",
   "metadata": {},
   "outputs": [
    {
     "name": "stdout",
     "output_type": "stream",
     "text": [
      "[[1. 2. 3.]\n",
      " [4. 5. 6.]]\n",
      "[1. 2. 3. 4. 5. 6.]\n"
     ]
    }
   ],
   "source": [
    "a = np.array([[1,2,3],[4,5,6]],float)\n",
    "print(a)\n",
    "a = a.flatten()\n",
    "print(a)"
   ]
  },
  {
   "cell_type": "code",
   "execution_count": 56,
   "id": "205ca068-abe9-43aa-888e-fdc616da4342",
   "metadata": {},
   "outputs": [
    {
     "data": {
      "text/plain": [
       "array([1., 2., 3., 4., 5., 6., 7., 8., 9.])"
      ]
     },
     "execution_count": 56,
     "metadata": {},
     "output_type": "execute_result"
    }
   ],
   "source": [
    "a = np.array([1,2],float)\n",
    "b = np.array([3,4,5,6],float)\n",
    "c = np.array([7,8,9],float)\n",
    "np.concatenate((a,b,c))"
   ]
  },
  {
   "cell_type": "code",
   "execution_count": 63,
   "id": "cd003038-65c5-4593-bd19-ef34c7006d63",
   "metadata": {},
   "outputs": [
    {
     "name": "stdout",
     "output_type": "stream",
     "text": [
      "[1, 2, 3, 4, 5, 6, 7, 8, 9] [11, 12, 13, 14, 15, 16, 17, 18, 19]\n",
      "[1, 2, 3, 4, 5, 6, 7, 8, 9, 11, 12, 13, 14, 15, 16, 17, 18, 19]\n",
      "[12 14 16 18 20 22 24 26 28]\n"
     ]
    }
   ],
   "source": [
    "l1 = list(range(1,10))\n",
    "l2 = list(range(11,20))\n",
    "print(l1,l2)\n",
    "\n",
    "l3 = l1+l2\n",
    "print(l3)\n",
    "\n",
    "nl1 = np.array(l1)\n",
    "nl2 = np.array(l2)\n",
    "nl3 = nl2 + nl1\n",
    "print(nl3)"
   ]
  },
  {
   "cell_type": "code",
   "execution_count": 67,
   "id": "7a656272-df6b-47cf-958b-1c55821dc1b7",
   "metadata": {},
   "outputs": [
    {
     "name": "stdout",
     "output_type": "stream",
     "text": [
      "[[1. 2.]\n",
      " [3. 4.]\n",
      " [5. 6.]\n",
      " [7. 8.]] \n",
      "\n",
      "[[1. 2.]\n",
      " [3. 4.]\n",
      " [5. 6.]\n",
      " [7. 8.]]\n",
      "[[1. 2. 5. 6.]\n",
      " [3. 4. 7. 8.]]\n"
     ]
    }
   ],
   "source": [
    "a = np.array([[1,2],[3,4]],float)\n",
    "b = np.array([[5,6],[7,8]],float)\n",
    "print(np.concatenate((a,b)),'\\n')\n",
    "print(np.concatenate((a,b),axis = 0))\n",
    "print(np.concatenate((a,b),axis = 1))"
   ]
  },
  {
   "cell_type": "code",
   "execution_count": 71,
   "id": "db6c2210-d8aa-470e-a9d2-d7e2277932ec",
   "metadata": {},
   "outputs": [
    {
     "name": "stdout",
     "output_type": "stream",
     "text": [
      "[[1. 2.]\n",
      " [3. 4.]]\n",
      "[5. 6.]\n",
      "[[ 6.  8.]\n",
      " [ 8. 10.]]\n"
     ]
    }
   ],
   "source": [
    "a = np.array([[1,2],[3,4]],float)\n",
    "b = np.array([5,6],float)\n",
    "print(a)\n",
    "print(b)\n",
    "print(a+b)"
   ]
  },
  {
   "cell_type": "code",
   "execution_count": 78,
   "id": "afd154a7-1689-47a5-8615-f521b8cbb75d",
   "metadata": {},
   "outputs": [
    {
     "name": "stdout",
     "output_type": "stream",
     "text": [
      "[[0. 0. 0.]\n",
      " [0. 0. 0.]]\n",
      "[-1.  3.  4.]\n",
      "[[-1.  3.  4.]\n",
      " [-1.  3.  4.]]\n"
     ]
    }
   ],
   "source": [
    "a = np.zeros((2,3),float)\n",
    "b = np.array([-1.,3.,4.],float)\n",
    "print(a)\n",
    "print(b)\n",
    "#print(a+b)\n",
    "print(a+b[np.newaxis,:])\n",
    "#print(a+b[:,np.newaxis])"
   ]
  },
  {
   "cell_type": "code",
   "execution_count": 80,
   "id": "51cf9644-d4c7-4385-89a6-a98924cbc172",
   "metadata": {},
   "outputs": [
    {
     "name": "stdout",
     "output_type": "stream",
     "text": [
      "1.0 2.0 3.0\n",
      "3.0 4.0 7.0\n",
      "5.0 6.0 11.0\n",
      "-----\n",
      "[1. 2.] 1.0\n",
      "[1. 2.] 2.0\n",
      "[3. 4.] 3.0\n",
      "[3. 4.] 4.0\n",
      "[5. 6.] 5.0\n",
      "[5. 6.] 6.0\n"
     ]
    }
   ],
   "source": [
    "a = np.array([[1,2],[3,4],[5,6]],float)\n",
    "for (x,y) in a:\n",
    "    print(x,y,x+y)\n",
    "print('-----')\n",
    "for i in a:\n",
    "    for j in i:\n",
    "        print(i,j)"
   ]
  },
  {
   "cell_type": "code",
   "execution_count": 85,
   "id": "a7a4ca00-4b6e-42ba-bb4a-20d9def6e5e5",
   "metadata": {},
   "outputs": [
    {
     "name": "stdout",
     "output_type": "stream",
     "text": [
      "3.0 12.5 3.5355339059327378\n",
      "0.0 3 9.0 2\n"
     ]
    }
   ],
   "source": [
    "a = np.array([2,1,9,0],float)\n",
    "print(a.mean(), a.var(), a.std())\n",
    "print(a.min(), a.argmin(), a.max(), a.argmax())"
   ]
  },
  {
   "cell_type": "code",
   "execution_count": 86,
   "id": "12499671-a0e1-4f19-97ae-a937dcbd5536",
   "metadata": {},
   "outputs": [
    {
     "data": {
      "text/plain": [
       "array([5., 2., 5., 0., 0., 4.])"
      ]
     },
     "execution_count": 86,
     "metadata": {},
     "output_type": "execute_result"
    }
   ],
   "source": [
    "a = np.array([6,2,5,-1,0,4],float)\n",
    "a.clip(0,5) # min(max(x,minval),maxval)"
   ]
  },
  {
   "cell_type": "code",
   "execution_count": 93,
   "id": "e7696073-ce70-4f8c-b976-de8ca4057295",
   "metadata": {},
   "outputs": [
    {
     "name": "stdout",
     "output_type": "stream",
     "text": [
      "[1. 4. 5. 7.]\n"
     ]
    }
   ],
   "source": [
    "a = np.array([1,1,4,5,5,5,7],float)\n",
    "print((np.unique(a)))"
   ]
  },
  {
   "cell_type": "code",
   "execution_count": 94,
   "id": "f4c6af6c-7038-4c52-a5b4-c1c56757cb1c",
   "metadata": {},
   "outputs": [
    {
     "name": "stdout",
     "output_type": "stream",
     "text": [
      "[5. 5. 5. 7.]\n",
      "[4. 5. 5. 5. 7.]\n"
     ]
    }
   ],
   "source": [
    "print(a[a>4])\n",
    "print(a[np.logical_and(a>3, a<9)])"
   ]
  },
  {
   "cell_type": "markdown",
   "id": "0e088c4e-fd2f-4867-9434-524b9c69a0d4",
   "metadata": {},
   "source": [
    "# Работа с файлами и исключениями"
   ]
  },
  {
   "cell_type": "code",
   "execution_count": 99,
   "id": "32475582-7e5d-402a-b60f-ec494ca7c1b6",
   "metadata": {},
   "outputs": [],
   "source": [
    "file = open(\"text.txt\", \"w\")\n",
    "file.write('Hello')\n",
    "file.close()"
   ]
  },
  {
   "cell_type": "code",
   "execution_count": 100,
   "id": "49840608-f2b6-4b50-97ee-489dba9a99b8",
   "metadata": {},
   "outputs": [],
   "source": [
    "file = open(\"text.txt\", \"a\")\n",
    "file.write(' World')\n",
    "file.close()"
   ]
  },
  {
   "cell_type": "code",
   "execution_count": 102,
   "id": "eaba6b88-b588-4a1e-9a8f-befa3a1876ea",
   "metadata": {},
   "outputs": [],
   "source": [
    "f = open(\"text.dat\", \"wb\")\n",
    "f.write(bytes('строка', 'utf8'))\n",
    "f.close()"
   ]
  },
  {
   "cell_type": "code",
   "execution_count": 105,
   "id": "f477548f-2b3b-48e5-96a7-e797c243851d",
   "metadata": {},
   "outputs": [
    {
     "name": "stdout",
     "output_type": "stream",
     "text": [
      "File Not Found\n"
     ]
    }
   ],
   "source": [
    "try:\n",
    "    file = open(\"test.txt\",\"r\")\n",
    "    print(file.read())\n",
    "    file.close()\n",
    "except FileNotFoundError:\n",
    "    print('File Not Found')\n",
    "except IOError:\n",
    "    print('Something malicious is brewing')"
   ]
  },
  {
   "cell_type": "code",
   "execution_count": 113,
   "id": "2cf1fbb0-5dc9-45a0-8e4f-b8fe191b8cfa",
   "metadata": {},
   "outputs": [
    {
     "name": "stdout",
     "output_type": "stream",
     "text": [
      "Error: (2, 'No such file or directory')\n",
      "finally\n"
     ]
    }
   ],
   "source": [
    "try:\n",
    "    f = open(\"tex1t.dat\",\"rb\")\n",
    "    b = f.read(1)\n",
    "    s = \"\"\n",
    "    while True:\n",
    "        b = f.read(1)\n",
    "        if b == b'':\n",
    "            break\n",
    "        s += b.hex()\n",
    "    print(s)\n",
    "    f.close()\n",
    "except IOError as e:\n",
    "    print('Error: {}'.format(e.args))\n",
    "else:\n",
    "    print('OK')\n",
    "finally:\n",
    "    print('finally')"
   ]
  },
  {
   "cell_type": "code",
   "execution_count": 111,
   "id": "ace62120-9968-4abd-b936-b0e5e668b8e4",
   "metadata": {},
   "outputs": [
    {
     "name": "stdout",
     "output_type": "stream",
     "text": [
      "<class 'Exception'>\n",
      "('spam', 'eggs')\n",
      "('spam', 'eggs')\n",
      "x =  spam  y =  eggs\n"
     ]
    }
   ],
   "source": [
    "try:\n",
    "    raise Exception('spam', 'eggs')\n",
    "except Exception as inst:\n",
    "    print(type(inst)) # the exception instance\n",
    "    print(inst.args)  # arguments stored in .args\n",
    "    print(inst)       # __str__ allows args to be printed directly\n",
    "                      # but may be overriden in exception subclasses\n",
    "    x, y = inst.args  # upack args\n",
    "    print ('x = ', x, \" y = \", y)"
   ]
  },
  {
   "cell_type": "code",
   "execution_count": 116,
   "id": "81e971f8-91b7-438e-b713-6e517a61af97",
   "metadata": {},
   "outputs": [
    {
     "name": "stdout",
     "output_type": "stream",
     "text": [
      "Hello World\n"
     ]
    }
   ],
   "source": [
    "with open('text.txt', 'r') as file:\n",
    "    print(file.read())"
   ]
  },
  {
   "cell_type": "code",
   "execution_count": 117,
   "id": "e214dd4a-ef84-4e63-b4ec-3549688b5951",
   "metadata": {},
   "outputs": [
    {
     "name": "stdout",
     "output_type": "stream",
     "text": [
      "строка\n"
     ]
    }
   ],
   "source": [
    "with open('text.dat', 'r', encoding=\"utf-8\")as file:\n",
    "    print(file.read())"
   ]
  },
  {
   "cell_type": "code",
   "execution_count": 122,
   "id": "1ae8255e-9e3e-48b1-8206-05e6742a8d60",
   "metadata": {},
   "outputs": [
    {
     "name": "stdout",
     "output_type": "stream",
     "text": [
      "hello world\n",
      "\n",
      "World is beautiful\n"
     ]
    }
   ],
   "source": [
    "file = open('test.txt', \"w\")\n",
    "file.write(\"hello world\\n\")\n",
    "file.write(\"World is beautiful\")\n",
    "file.close()\n",
    "\n",
    "with open('test.txt', 'r') as file:\n",
    "    line = file.readlines()\n",
    "    for i in line:\n",
    "        print(i)"
   ]
  },
  {
   "cell_type": "markdown",
   "id": "dc7798cd-8107-49df-9e43-507666270d24",
   "metadata": {},
   "source": [
    "# MatPlotLib"
   ]
  },
  {
   "cell_type": "code",
   "execution_count": 32,
   "id": "43b5d9c5-24b3-4e29-81e3-10c47c3c554e",
   "metadata": {},
   "outputs": [
    {
     "name": "stdin",
     "output_type": "stream",
     "text": [
      " 1, 2, 3, 4, 5, 6, 7, 8, 9, 10\n"
     ]
    },
    {
     "name": "stdout",
     "output_type": "stream",
     "text": [
      "Plot: 2 [<matplotlib.lines.Line2D object at 0x000001E9A5389700>, <matplotlib.lines.Line2D object at 0x000001E9A5389D00>]\n"
     ]
    },
    {
     "data": {
      "image/png": "[encoded data removed]",
      "text/plain": [
       "<Figure size 640x480 with 1 Axes>"
      ]
     },
     "metadata": {},
     "output_type": "display_data"
    }
   ],
   "source": [
    "%matplotlib inline\n",
    "import matplotlib.pyplot as plt\n",
    "import os\n",
    "import numpy as np\n",
    "import math\n",
    "\n",
    "fig = plt.figure()\n",
    "\n",
    "x_p  = [int(i.strip()) for i in input().split(',')]\n",
    "y1_p = [i + 1 for i in range (10)]\n",
    "y2_p = [math.sqrt(200*i) for i in x_p]\n",
    "\n",
    "graph1 = plt.plot(x_p, y1_p, x_p, y2_p)\n",
    "plt.legend(['$x^2$', r'$\\sqrt{200x}$'])\n",
    "print('Plot:', len(graph1), graph1)\n",
    "\n",
    "plt.grid(True)\n",
    "plt.show()"
   ]
  }
 ],
 "metadata": {
  "kernelspec": {
   "display_name": "Python 3 (ipykernel)",
   "language": "python",
   "name": "python3"
  },
  "language_info": {
   "codemirror_mode": {
    "name": "ipython",
    "version": 3
   },
   "file_extension": ".py",
   "mimetype": "text/x-python",
   "name": "python",
   "nbconvert_exporter": "python",
   "pygments_lexer": "ipython3",
   "version": "3.12.7"
  }
 },
 "nbformat": 4,
 "nbformat_minor": 5
}
