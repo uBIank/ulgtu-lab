{
 "cells": [
  {
   "cell_type": "markdown",
   "id": "5ac97944-a3ef-4bff-b9c8-dbd839453e98",
   "metadata": {},
   "source": [
    "# Лабораторная №2\n",
    "16.\tВыполнить обработку элементов прямоугольной матрицы A, имеющей N строк и M столбцов. Исключить из матрицы строку с номером L. Сомкнуть строки матрицы."
   ]
  },
  {
   "cell_type": "code",
   "execution_count": 44,
   "id": "9c3ec112-9b8c-45cb-a9f8-09e75b93f970",
   "metadata": {},
   "outputs": [
    {
     "name": "stdout",
     "output_type": "stream",
     "text": [
      "Import N rows :\n"
     ]
    },
    {
     "name": "stdin",
     "output_type": "stream",
     "text": [
      " 5\n"
     ]
    },
    {
     "name": "stdout",
     "output_type": "stream",
     "text": [
      "Import M collumns :\n"
     ]
    },
    {
     "name": "stdin",
     "output_type": "stream",
     "text": [
      " 5\n"
     ]
    },
    {
     "name": "stdout",
     "output_type": "stream",
     "text": [
      "Import row L to remove :\n"
     ]
    },
    {
     "name": "stdin",
     "output_type": "stream",
     "text": [
      " 2\n"
     ]
    },
    {
     "name": "stdout",
     "output_type": "stream",
     "text": [
      "[[ 0  1  3  4]\n",
      " [ 5  6  8  9]\n",
      " [10 11 13 14]\n",
      " [15 16 18 19]\n",
      " [20 21 23 24]]\n",
      "[ 0  1  3  4  5  6  8  9 10 11 13 14 15 16 18 19 20 21 23 24]\n"
     ]
    }
   ],
   "source": [
    "import numpy as np\n",
    "\n",
    "print(\"Import N rows :\");\n",
    "N = int(input());\n",
    "print(\"Import M collumns :\");\n",
    "M = int(input());\n",
    "print(\"Import row L to remove :\"); \n",
    "L = int(input());\n",
    "\n",
    "arr = np.array(range(0,N*M)).reshape((N,M));\n",
    "arr = np.delete(arr, L, axis = 1);\n",
    "\n",
    "print(arr);\n",
    "print(arr.flatten())"
   ]
  }
 ],
 "metadata": {
  "kernelspec": {
   "display_name": "Python 3 (ipykernel)",
   "language": "python",
   "name": "python3"
  },
  "language_info": {
   "codemirror_mode": {
    "name": "ipython",
    "version": 3
   },
   "file_extension": ".py",
   "mimetype": "text/x-python",
   "name": "python",
   "nbconvert_exporter": "python",
   "pygments_lexer": "ipython3",
   "version": "3.12.3"
  }
 },
 "nbformat": 4,
 "nbformat_minor": 5
}
